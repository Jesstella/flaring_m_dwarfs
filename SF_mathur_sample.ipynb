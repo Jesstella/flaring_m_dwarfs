{
 "cells": [
  {
   "cell_type": "markdown",
   "metadata": {},
   "source": [
    "# Downloads Mathur Sample and MAST Kepler Magnitudes for the Mathur Stars."
   ]
  },
  {
   "cell_type": "markdown",
   "metadata": {},
   "source": [
    "This code will take the Mathur sample and pull a KIC ID for each star. These are then split up into files with a length of no more than 999 (as the limit for a MAST file search is 10,000). \n",
    "\n",
    "These files can then be used in the MAST KIC search and retrieve form to pull the Kepler magnitudes for each star. \n",
    "\n",
    "When this is done these magnitude files can be combined with the temperature, logg and KIC of each star in the Mathur sample to create a file to cross-match with the TRILEGAL sample. "
   ]
  },
  {
   "cell_type": "code",
   "execution_count": 2,
   "metadata": {},
   "outputs": [],
   "source": [
    "# Necessary Modules\n",
    "import numpy as np \n",
    "import pandas as pd\n",
    "import glob"
   ]
  },
  {
   "cell_type": "code",
   "execution_count": 3,
   "metadata": {},
   "outputs": [
    {
     "name": "stdout",
     "output_type": "stream",
     "text": [
      "There are 197096 in the Mathur sample.\n"
     ]
    }
   ],
   "source": [
    "# Open the Mathur sample\n",
    "mathur = pd.read_csv('/Users/Jess/SF_m_dwarfs/SF_mathur_magnitudes/mathur_2017_edited.txt', delimiter='|')\n",
    "print('There are ' + str(len(mathur)) + ' in the Mathur sample.')"
   ]
  },
  {
   "cell_type": "code",
   "execution_count": 19,
   "metadata": {},
   "outputs": [],
   "source": [
    "# Pulls just the KIC IDs from the Mathur sample and saved them into a new file\n",
    "kic = list(mathur['KIC']) \n",
    "rows = zip(kic) \n",
    "header = ['kic']\n",
    "df = pd.DataFrame(rows, columns=header)\n",
    "df.to_csv('/Users/Jess/SF_m_dwarfs/SF_mathur_magnitudes/mathur_2017_kic_ids.csv', index=False)"
   ]
  },
  {
   "cell_type": "code",
   "execution_count": 10,
   "metadata": {},
   "outputs": [
    {
     "name": "stdout",
     "output_type": "stream",
     "text": [
      "We will need: 20.0 files of KIC IDs for the MAST search.\n"
     ]
    }
   ],
   "source": [
    "no_of_files = round(len(mathur)/10000,0)\n",
    "print('We will need: ' + str(no_of_files) + ' files of KIC IDs for the MAST search.')"
   ]
  },
  {
   "cell_type": "code",
   "execution_count": 13,
   "metadata": {},
   "outputs": [],
   "source": [
    "# Open list of KICs\n",
    "kic_ids = pd.read_csv('/Users/Jess/SF_m_dwarfs/SF_mathur_magnitudes/mathur_2017_kic_ids.csv')\n",
    "kic_ids = list(kic_ids['kic'])"
   ]
  },
  {
   "cell_type": "code",
   "execution_count": 14,
   "metadata": {
    "scrolled": false
   },
   "outputs": [
    {
     "name": "stdout",
     "output_type": "stream",
     "text": [
      "\n",
      "First index: 0.0\n",
      "Last index: 9854.8\n",
      "First KIC: 757076\n",
      "Last KIC: 3337733\n",
      "Length of KIC list: 9854\n",
      "\n",
      "First index: 9854.8\n",
      "Last index: 19709.6\n",
      "First KIC: 3337740\n",
      "Last KIC: 4067493\n",
      "Length of KIC list: 9855\n",
      "\n",
      "First index: 19709.6\n",
      "Last index: 29564.399999999998\n",
      "First KIC: 4067498\n",
      "Last KIC: 4771739\n",
      "Length of KIC list: 9855\n",
      "\n",
      "First index: 29564.399999999998\n",
      "Last index: 39419.2\n",
      "First KIC: 4771770\n",
      "Last KIC: 5270561\n",
      "Length of KIC list: 9855\n",
      "\n",
      "First index: 39419.2\n",
      "Last index: 49274.0\n",
      "First KIC: 5270627\n",
      "Last KIC: 5707589\n",
      "Length of KIC list: 9855\n",
      "\n",
      "First index: 49274.0\n",
      "Last index: 59128.799999999996\n",
      "First KIC: 5707592\n",
      "Last KIC: 6201205\n",
      "Length of KIC list: 9854\n",
      "\n",
      "First index: 59128.799999999996\n",
      "Last index: 68983.59999999999\n",
      "First KIC: 6201235\n",
      "Last KIC: 6678316\n",
      "Length of KIC list: 9855\n",
      "\n",
      "First index: 68983.59999999999\n",
      "Last index: 78838.4\n",
      "First KIC: 6678322\n",
      "Last KIC: 7188323\n",
      "Length of KIC list: 9855\n",
      "\n",
      "First index: 78838.4\n",
      "Last index: 88693.2\n",
      "First KIC: 7188366\n",
      "Last KIC: 7676656\n",
      "Length of KIC list: 9855\n",
      "\n",
      "First index: 88693.2\n",
      "Last index: 98548.0\n",
      "First KIC: 7676663\n",
      "Last KIC: 8076534\n",
      "Length of KIC list: 9855\n",
      "\n",
      "First index: 98548.0\n",
      "Last index: 108402.79999999999\n",
      "First KIC: 8076561\n",
      "Last KIC: 8396331\n",
      "Length of KIC list: 9854\n",
      "\n",
      "First index: 108402.79999999999\n",
      "Last index: 118257.59999999999\n",
      "First KIC: 8396357\n",
      "Last KIC: 8814635\n",
      "Length of KIC list: 9855\n",
      "\n",
      "First index: 118257.59999999999\n",
      "Last index: 128112.4\n",
      "First KIC: 8814663\n",
      "Last KIC: 9283107\n",
      "Length of KIC list: 9855\n",
      "\n",
      "First index: 128112.4\n",
      "Last index: 137967.19999999998\n",
      "First KIC: 9283112\n",
      "Last KIC: 9655785\n",
      "Length of KIC list: 9855\n",
      "\n",
      "First index: 137967.19999999998\n",
      "Last index: 147822.0\n",
      "First KIC: 9655792\n",
      "Last KIC: 10001809\n",
      "Length of KIC list: 9855\n",
      "\n",
      "First index: 147822.0\n",
      "Last index: 157676.8\n",
      "First KIC: 10001824\n",
      "Last KIC: 10417420\n",
      "Length of KIC list: 9854\n",
      "\n",
      "First index: 157676.8\n",
      "Last index: 167531.59999999998\n",
      "First KIC: 10417450\n",
      "Last KIC: 10881254\n",
      "Length of KIC list: 9855\n",
      "\n",
      "First index: 167531.59999999998\n",
      "Last index: 177386.4\n",
      "First KIC: 10881317\n",
      "Last KIC: 11352168\n",
      "Length of KIC list: 9855\n",
      "\n",
      "First index: 177386.4\n",
      "Last index: 187241.19999999998\n",
      "First KIC: 11352176\n",
      "Last KIC: 11867785\n",
      "Length of KIC list: 9855\n",
      "\n",
      "First index: 187241.19999999998\n",
      "Last index: 197096.0\n",
      "First KIC: 11867833\n",
      "Last KIC: 12984422\n",
      "Length of KIC list: 9855\n",
      "\n",
      "The total number of KIC IDs we need to search for is: 197096\n",
      "The combined number of KIC IDs in all these lists is: 197096\n"
     ]
    }
   ],
   "source": [
    "# Break the KIC list into 20 lists, in order, and save them to individual files.\n",
    "index_list = np.linspace(0, len(mathur), (int(no_of_files) + 1))\n",
    "list_lengths = []\n",
    "\n",
    "a = 1\n",
    "for i in range(len(index_list)-1): \n",
    "    kic_list = []\n",
    "    print('\\nFirst index: ' + str(index_list[i]))\n",
    "    print('Last index: ' + str(index_list[i+1]))\n",
    "    kic_list = kic_ids[int(index_list[i]):int(index_list[i+1])]\n",
    "    \n",
    "    print('First KIC: ' + str(kic_list[0]))\n",
    "    print('Last KIC: ' + str(kic_list[-1]))\n",
    "    \n",
    "    print('Length of KIC list: ' + str(len(kic_list)))\n",
    "    list_lengths.append(len(kic_list))\n",
    "    \n",
    "    with open('/Users/Jess/SF_m_dwarfs/SF_mathur_magnitudes/kic_list_' + str(a) + '.txt', 'w') as output:\n",
    "         for row in kic_list:\n",
    "            output.write(str(row) + '\\n')\n",
    "    \n",
    "    a = a + 1\n",
    "    \n",
    "print('\\nThe total number of KIC IDs we need to search for is: ' + str(len(kic_ids)))\n",
    "print('The combined number of KIC IDs in all these lists is: ' + str(np.sum(list_lengths)))"
   ]
  },
  {
   "cell_type": "markdown",
   "metadata": {},
   "source": [
    "At this point the user must use these KIC lists to download the necessary values from MAST... there is probably an API for this but it is not used here. "
   ]
  },
  {
   "cell_type": "code",
   "execution_count": 15,
   "metadata": {},
   "outputs": [],
   "source": [
    "# Open the new magnitude files. \n",
    "path = '/Users/Jess/SF_m_dwarfs/SF_mathur_magnitudes/'\n",
    "kic_lists = glob.glob(path + 'kic_list_*.txt')\n",
    "searches = glob.glob(path + 'kic10_search-*.txt')"
   ]
  },
  {
   "cell_type": "code",
   "execution_count": 16,
   "metadata": {
    "scrolled": false
   },
   "outputs": [
    {
     "name": "stdout",
     "output_type": "stream",
     "text": [
      "File number: 8\n",
      "File number: 9\n",
      "File number: 20\n",
      "File number: 19\n",
      "File number: 18\n",
      "File number: 16\n",
      "File number: 17\n",
      "File number: 15\n",
      "File number: 14\n",
      "File number: 10\n",
      "File number: 11\n",
      "File number: 13\n",
      "File number: 12\n",
      "File number: 4\n",
      "File number: 5\n",
      "File number: 7\n",
      "File number: 6\n",
      "File number: 2\n",
      "File number: 3\n",
      "File number: 1\n",
      "Individual length: 197096\n",
      "Complete length: 197096\n"
     ]
    }
   ],
   "source": [
    "# Save the new magnitude files into one big file. \n",
    "length_of_searches = []\n",
    "file_list = []\n",
    "\n",
    "for i in searches: \n",
    "    print('File number: ' + str(i[58:-4]))\n",
    "    file = pd.read_csv(i, skiprows=[1])\n",
    "    file_list.append(file)\n",
    "    length_of_searches.append(len(file))\n",
    "    \n",
    "df_list = file_list\n",
    "full_df = pd.concat(df_list)\n",
    "print('Individual length: ' + str(np.sum(length_of_searches)))\n",
    "print('Complete length: ' + str(len(full_df)))\n",
    "\n",
    "full_df.to_csv(path + 'mathur_magnitudes_complete.csv', index=False)"
   ]
  },
  {
   "cell_type": "code",
   "execution_count": 17,
   "metadata": {},
   "outputs": [],
   "source": [
    "# Find the correct magnitude to correspond to each Kepler magnitude using the indexing of the Kepler ID. \n",
    "mathur = pd.read_csv('/Users/Jess/SF_m_dwarfs/SF_mathur_magnitudes/mathur_2017_edited.txt', delimiter='|')\n",
    "mathur_kic = mathur['KIC']\n",
    "mathur_teff = mathur['Teff']\n",
    "mathur_logg = mathur['log(g)']\n",
    "\n",
    "kepler = full_df\n",
    "kepler_kic = list(kepler['Kepler ID'])\n",
    "kepler_mag = list(kepler['Kepler Mag'])\n",
    "\n",
    "indices = []\n",
    "magnitudes = []\n",
    "for i in mathur_kic:\n",
    "     index = kepler_kic.index(i)\n",
    "     indices.append(index)\n",
    "     magnitudes.append(kepler_mag[index])"
   ]
  },
  {
   "cell_type": "code",
   "execution_count": 133,
   "metadata": {},
   "outputs": [],
   "source": [
    "# Save into Mathur file with the parameters needed for the cross-match (with TRILEGAL).\n",
    "rows = zip(mathur_kic, mathur_teff, mathur_logg, magnitudes)\n",
    "header = ['kic', 'teff', 'logg', 'kep_mag']\n",
    "df = pd.DataFrame(rows, columns=header)\n",
    "df.to_csv('/Users/Jess/SF_m_dwarfs/SF_mathur_magnitudes/complete_mathur_file.csv', index=False)"
   ]
  }
 ],
 "metadata": {
  "kernelspec": {
   "display_name": "Python 3",
   "language": "python",
   "name": "python3"
  },
  "language_info": {
   "codemirror_mode": {
    "name": "ipython",
    "version": 3
   },
   "file_extension": ".py",
   "mimetype": "text/x-python",
   "name": "python",
   "nbconvert_exporter": "python",
   "pygments_lexer": "ipython3",
   "version": "3.7.7"
  }
 },
 "nbformat": 4,
 "nbformat_minor": 4
}
