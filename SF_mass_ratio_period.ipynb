{
 "cells": [
  {
   "cell_type": "markdown",
   "metadata": {},
   "source": [
    "## Creating mass ratio and period distributions and then assigning these values randomly to each binary pair"
   ]
  },
  {
   "cell_type": "markdown",
   "metadata": {},
   "source": [
    "This plot reads in the dataframe of the sample and draws random period and mass ratios for each sample using Raghavan distributions. "
   ]
  },
  {
   "cell_type": "code",
   "execution_count": 2,
   "metadata": {},
   "outputs": [],
   "source": [
    "# Import modules \n",
    "import numpy as np \n",
    "import pandas as pd \n",
    "import matplotlib.pyplot as plt\n",
    "import random"
   ]
  },
  {
   "cell_type": "code",
   "execution_count": 3,
   "metadata": {},
   "outputs": [],
   "source": [
    "# Create distributions for periods and mass ratios\n",
    "def period_of_binary(num_of_stars): \n",
    "    mu, sigma = 5.03, 2.28 \n",
    "    distribution = np.random.normal(mu, sigma, num_of_stars) \n",
    "    period = random.choice(distribution)  \n",
    "    return period \n",
    "\n",
    "def mass_ratio_of_binary(num_of_stars): \n",
    "    mass_ratio = random.uniform(0.1, 1) \n",
    "    return mass_ratio "
   ]
  },
  {
   "cell_type": "code",
   "execution_count": 4,
   "metadata": {},
   "outputs": [],
   "source": [
    "# Draw our sample and pull periods and mass ratios for them at random\n",
    "binaries = pd.read_csv('/Users/Jess/sf_m_dwarfs/sf_data_files/run_5/G_with_binaries.csv')\n",
    "\n",
    "periods = [] \n",
    "mass_ratios = [] \n",
    "\n",
    "for i in range(0, len(binaries['# Index'])): \n",
    "    period = period_of_binary(1000) \n",
    "    mass_ratio = mass_ratio_of_binary(1000) \n",
    "    periods.append(period)\n",
    "    mass_ratios.append(mass_ratio)"
   ]
  },
  {
   "cell_type": "code",
   "execution_count": 4,
   "metadata": {},
   "outputs": [],
   "source": [
    "# Save a new CSV file with all the columns \n",
    "full_sample_array = np.column_stack((binaries,periods,mass_ratios))\n",
    "np.savetxt('/Users/Jess/sf_m_dwarfs/sf_data_files/run_5/G_with_binaries_with_parameters.csv', full_sample_array, delimiter=',', header='Index,Gc,logAge,M_H,m_ini,logL,logTe,logg,m-M0,Av,m2/m1,mbol,Kepler,g,r,i,z,DDO51_finf,J,H,Ks,Mact,periods,mass_ratios')\n",
    "binaries_with_parameters = full_sample_array"
   ]
  },
  {
   "cell_type": "code",
   "execution_count": 5,
   "metadata": {},
   "outputs": [
    {
     "ename": "NameError",
     "evalue": "name 'binaries_with_parameters' is not defined",
     "output_type": "error",
     "traceback": [
      "\u001b[0;31m---------------------------------------------------------------------------\u001b[0m",
      "\u001b[0;31mNameError\u001b[0m                                 Traceback (most recent call last)",
      "\u001b[0;32m<ipython-input-5-e8eb4fab4009>\u001b[0m in \u001b[0;36m<module>\u001b[0;34m\u001b[0m\n\u001b[1;32m      1\u001b[0m \u001b[0;31m# Plot the histogram of the whole distribution vs. the randomly drawn sample to test for correctness\u001b[0m\u001b[0;34m\u001b[0m\u001b[0;34m\u001b[0m\u001b[0;34m\u001b[0m\u001b[0m\n\u001b[1;32m      2\u001b[0m \u001b[0mnumbers\u001b[0m \u001b[0;34m=\u001b[0m \u001b[0mnp\u001b[0m\u001b[0;34m.\u001b[0m\u001b[0mlinspace\u001b[0m\u001b[0;34m(\u001b[0m\u001b[0;36m0\u001b[0m\u001b[0;34m,\u001b[0m \u001b[0;36m100000\u001b[0m\u001b[0;34m,\u001b[0m \u001b[0;36m100000\u001b[0m\u001b[0;34m)\u001b[0m\u001b[0;34m\u001b[0m\u001b[0;34m\u001b[0m\u001b[0m\n\u001b[0;32m----> 3\u001b[0;31m \u001b[0mprint\u001b[0m\u001b[0;34m(\u001b[0m\u001b[0mlen\u001b[0m\u001b[0;34m(\u001b[0m\u001b[0mbinaries_with_parameters\u001b[0m\u001b[0;34m)\u001b[0m\u001b[0;34m)\u001b[0m\u001b[0;34m\u001b[0m\u001b[0;34m\u001b[0m\u001b[0m\n\u001b[0m\u001b[1;32m      4\u001b[0m \u001b[0mtest_periods\u001b[0m \u001b[0;34m=\u001b[0m \u001b[0;34m[\u001b[0m\u001b[0;34m]\u001b[0m\u001b[0;34m\u001b[0m\u001b[0;34m\u001b[0m\u001b[0m\n\u001b[1;32m      5\u001b[0m \u001b[0mtest_mass_ratios\u001b[0m \u001b[0;34m=\u001b[0m \u001b[0;34m[\u001b[0m\u001b[0;34m]\u001b[0m\u001b[0;34m\u001b[0m\u001b[0;34m\u001b[0m\u001b[0m\n",
      "\u001b[0;31mNameError\u001b[0m: name 'binaries_with_parameters' is not defined"
     ]
    }
   ],
   "source": [
    "# Plot the histogram of the whole distribution vs. the randomly drawn sample to test for correctness\n",
    "numbers = np.linspace(0, 100000, 100000)\n",
    "print(len(binaries_with_parameters))\n",
    "test_periods = []\n",
    "test_mass_ratios = []\n",
    "for i in numbers:\n",
    "    a = period_of_binary(10000)\n",
    "    test_periods.append(a)\n",
    "for i in numbers: \n",
    "    a = mass_ratio_of_binary(10000)\n",
    "    test_mass_ratios.append(a)\n",
    "\n",
    "plt.figure(figsize=(15, 4))\n",
    "plt.subplot(121)\n",
    "plt.hist(test_periods, histtype='step', label='Test Periods', color='#8c510a', linewidth=4, linestyle='-.')\n",
    "plt.hist(periods, range=(min(test_periods),max(test_periods)),label='Sample Periods', histtype='step', linewidth=4, color='#dfc27d')\n",
    "plt.legend(loc=2, fontsize=15)\n",
    "plt.ylabel('N', fontsize=15)\n",
    "plt.xticks(fontsize=15)\n",
    "plt.yticks(fontsize=15)\n",
    "plt.xlabel('Period [days]', fontsize=15)\n",
    "plt.yscale('log')\n",
    "plt.subplot(122)\n",
    "plt.hist(test_mass_ratios, histtype='step', color='#8c510a', linewidth=4, linestyle='-.')\n",
    "plt.xticks(fontsize=15)\n",
    "plt.yticks(fontsize=15)\n",
    "plt.xlabel('Mass Ratio', fontsize=15)\n",
    "plt.hist(mass_ratios, histtype='step', linewidth=4, color='#dfc27d')\n",
    "plt.savefig('/Users/Jess/sf_m_dwarfs/sf_data_files/run_5/plots/P_period_mass_ratios.png')\n",
    "plt.show()"
   ]
  },
  {
   "cell_type": "code",
   "execution_count": null,
   "metadata": {},
   "outputs": [],
   "source": []
  }
 ],
 "metadata": {
  "kernelspec": {
   "display_name": "Python 3",
   "language": "python",
   "name": "python3"
  },
  "language_info": {
   "codemirror_mode": {
    "name": "ipython",
    "version": 3
   },
   "file_extension": ".py",
   "mimetype": "text/x-python",
   "name": "python",
   "nbconvert_exporter": "python",
   "pygments_lexer": "ipython3",
   "version": "3.7.7"
  }
 },
 "nbformat": 4,
 "nbformat_minor": 4
}
