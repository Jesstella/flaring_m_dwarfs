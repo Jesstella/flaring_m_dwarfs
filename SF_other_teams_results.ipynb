{
 "cells": [
  {
   "cell_type": "markdown",
   "metadata": {},
   "source": [
    "# Asses the results of othe teams who have determined number of flares on stars "
   ]
  },
  {
   "cell_type": "markdown",
   "metadata": {},
   "source": [
    "This script takes user defined values of flares and errors and calcu"
   ]
  },
  {
   "cell_type": "code",
   "execution_count": null,
   "metadata": {},
   "outputs": [],
   "source": [
    "import numpy as np \n",
    "import matplotlib.pyplot as plt\n",
    "import math"
   ]
  },
  {
   "cell_type": "code",
   "execution_count": 5,
   "metadata": {},
   "outputs": [
    {
     "name": "stdout",
     "output_type": "stream",
     "text": [
      "In Shibayama 2013, they found 1571 flares on 279 stars.\n",
      "This is equivalent to 5.63 flares per star.\n",
      "\n",
      "In Maehara 2012, they found 365 flares on 148 stars.\n",
      "This is equivalent to 2.47 flares per star.\n",
      "\n",
      "In Shibayama 2013, they found 44 flares on 19 SUN-LIKE stars.\n",
      "This is equivalent to 2.32 flares per SUN-LIKE star.\n",
      "\n",
      "In Okamoto 2020, they found 2341 flares on 265 stars.\n",
      "This is equivalent to 8.83 flares per star.\n",
      "\n",
      "In Okamoto 2020, they found 26 flares on 15 SUN-LIKE stars.\n",
      "This is equivalent to 1.73 flares per SUN-LIKE star.\n"
     ]
    }
   ],
   "source": [
    "s13_flares = 1571 \n",
    "s13_stars_with_flares = 279\n",
    "m12_flares = 365\n",
    "m12_stars_with_flares = 148\n",
    "s13_flares_sunlike = 44\n",
    "s13_stars_with_flares_sunlike = 19\n",
    "o20_flares = 2341\n",
    "o20_stars_with_flares = 265\n",
    "o20_flares_sunlike = 26\n",
    "o20_stars_with_flares_sunlike = 15\n",
    "\n",
    "s13 = s13_flares/s13_stars_with_flares\n",
    "m12 = m12_flares/m12_stars_with_flares\n",
    "s13_sunlike = s13_flares_sunlike/s13_stars_with_flares_sunlike\n",
    "o20 = o20_flares/o20_stars_with_flares\n",
    "o20_sunlike = o20_flares_sunlike/o20_stars_with_flares_sunlike\n",
    "\n",
    "print('In Shibayama 2013, they found ' + str(s13_flares) + ' flares on ' + str(s13_stars_with_flares) + ' stars.')\n",
    "print('This is equivalent to ' + str(round(s13, 2)) + ' flares per star.')\n",
    "\n",
    "print('\\nIn Maehara 2012, they found ' + str(m12_flares) + ' flares on ' + str(m12_stars_with_flares) + ' stars.')\n",
    "print('This is equivalent to ' + str(round(m12, 2)) + ' flares per star.')\n",
    "\n",
    "print('\\nIn Shibayama 2013, they found ' + str(s13_flares_sunlike) + ' flares on ' + str(s13_stars_with_flares_sunlike) + ' SUN-LIKE stars.')\n",
    "print('This is equivalent to ' + str(round(s13_sunlike, 2)) + ' flares per SUN-LIKE star.')\n",
    "\n",
    "print('\\nIn Okamoto 2020, they found ' + str(o20_flares) + ' flares on ' + str(o20_stars_with_flares) + ' stars.')\n",
    "print('This is equivalent to ' + str(round(o20, 2)) + ' flares per star.')\n",
    "\n",
    "print('\\nIn Okamoto 2020, they found ' + str(o20_flares_sunlike) + ' flares on ' + str(o20_stars_with_flares_sunlike) + ' SUN-LIKE stars.')\n",
    "print('This is equivalent to ' + str(round(o20_sunlike, 2)) + ' flares per SUN-LIKE star.')"
   ]
  },
  {
   "cell_type": "code",
   "execution_count": 6,
   "metadata": {},
   "outputs": [],
   "source": [
    "# Defining a function for the Poisson statistics\n",
    "def poisson(n_flares, n_sample):\n",
    "    \n",
    "    frac = float(n_flares)/n_sample\n",
    "\n",
    "    delt = frac * math.sqrt(n_flares**-1 + n_sample**-1)\n",
    "    max_lim = frac + delt \n",
    "    min_lim = frac - delt \n",
    "    \n",
    "    #with open('/users/jess/sf_m_dwarfs/sf_data_files/run_1/final_results.txt', 'a') as f:\n",
    "    print('The fraction of flares per star is: ' + str(round(frac,3))) #, file=f)\n",
    "    print(\"The maximum limit is: \" + str(round(max_lim,3)) + \" and the minimum limit is: \" + str(round(min_lim,3))) #, file=f)\n",
    "    print(\"The Possion error for the number of flares per star is: \" + str(round(delt,3))) #, file=f)\n",
    "    \n",
    "    return frac, delt"
   ]
  },
  {
   "cell_type": "code",
   "execution_count": 7,
   "metadata": {},
   "outputs": [
    {
     "name": "stdout",
     "output_type": "stream",
     "text": [
      "For Shibayama 2013\n",
      "The fraction of flares per star is: 5.631\n",
      "The maximum limit is: 5.997 and the minimum limit is: 5.265\n",
      "The Possion error for the number of flares per star is: 0.366\n",
      "\n",
      "For Maehara 2012\n",
      "The fraction of flares per star is: 2.466\n",
      "The maximum limit is: 2.707 and the minimum limit is: 2.226\n",
      "The Possion error for the number of flares per star is: 0.24\n",
      "\n",
      "For Shibayama 2013 SUN-LIKE stars\n",
      "The fraction of flares per star is: 2.316\n",
      "The maximum limit is: 2.952 and the minimum limit is: 1.68\n",
      "The Possion error for the number of flares per star is: 0.636\n",
      "\n",
      "For Okamoto 2020\n",
      "The fraction of flares per star is: 8.834\n",
      "The maximum limit is: 9.407 and the minimum limit is: 8.261\n",
      "The Possion error for the number of flares per star is: 0.573\n",
      "\n",
      "For Okamoto 2020 SUN-LIKE stars\n",
      "The fraction of flares per star is: 1.733\n",
      "The maximum limit is: 2.295 and the minimum limit is: 1.171\n",
      "The Possion error for the number of flares per star is: 0.562\n"
     ]
    }
   ],
   "source": [
    "print('For Shibayama 2013')\n",
    "s13_frac, s13_delt = poisson(s13_flares, s13_stars_with_flares)\n",
    "\n",
    "print('\\nFor Maehara 2012')\n",
    "m12_frac, m12_delt = poisson(m12_flares, m12_stars_with_flares)\n",
    "\n",
    "print('\\nFor Shibayama 2013 SUN-LIKE stars')\n",
    "s13_frac_sunlike, s13_delt_sunlike = poisson(s13_flares_sunlike, s13_stars_with_flares_sunlike)\n",
    "\n",
    "print('\\nFor Okamoto 2020')\n",
    "o20_frac, o20_delt = poisson(o20_flares, o20_stars_with_flares)\n",
    "\n",
    "print('\\nFor Okamoto 2020 SUN-LIKE stars')\n",
    "o20_frac_sunlike, o20_delt_sunlike = poisson(o20_flares_sunlike, o20_stars_with_flares_sunlike)"
   ]
  },
  {
   "cell_type": "code",
   "execution_count": 13,
   "metadata": {},
   "outputs": [
    {
     "data": {
      "image/png": "[encoded data removed]",
      "text/plain": [
       "<Figure size 432x288 with 1 Axes>"
      ]
     },
     "metadata": {
      "needs_background": "light"
     },
     "output_type": "display_data"
    }
   ],
   "source": [
    "x = [1, 2, 3, 4, 5]\n",
    "y = [s13_frac, m12_frac, s13_frac_sunlike, o20_frac, o20_frac_sunlike]\n",
    "\n",
    "plt.bar(x, y, color=['#cab2d6', '#fdbf6f', '#b2df8a', '#fb9a99', '#a6cee3'], edgecolor=['#6a3d9a', '#ff7f00', '#33a02c', '#e31a1c', '#1f78b4'], linewidth=2)\n",
    "plt.xticks(ticks=[1, 2, 3, 4, 5], labels=['S13', 'M12', 'S13 Sun-like', 'O20', 'O20 Sun-like'], fontsize=15, rotation=45)\n",
    "plt.yticks(fontsize=15)\n",
    "plt.ylabel('N', fontsize=15)\n",
    "\n",
    "plt.savefig('/Users/jess/sf_m_dwarfs/sf_plots/P_other_study_results.png')\n",
    "plt.show()"
   ]
  },
  {
   "cell_type": "code",
   "execution_count": null,
   "metadata": {},
   "outputs": [],
   "source": []
  }
 ],
 "metadata": {
  "kernelspec": {
   "display_name": "Python 3",
   "language": "python",
   "name": "python3"
  },
  "language_info": {
   "codemirror_mode": {
    "name": "ipython",
    "version": 3
   },
   "file_extension": ".py",
   "mimetype": "text/x-python",
   "name": "python",
   "nbconvert_exporter": "python",
   "pygments_lexer": "ipython3",
   "version": "3.7.7"
  }
 },
 "nbformat": 4,
 "nbformat_minor": 4
}
