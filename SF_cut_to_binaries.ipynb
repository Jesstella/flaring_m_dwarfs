{
 "cells": [
  {
   "cell_type": "markdown",
   "metadata": {},
   "source": [
    "## Choosing a fraction of the sample at random to be binaries"
   ]
  },
  {
   "cell_type": "code",
   "execution_count": 1,
   "metadata": {},
   "outputs": [],
   "source": [
    "import numpy as np \n",
    "import pandas as pd \n",
    "import matplotlib.pyplot as plt"
   ]
  },
  {
   "cell_type": "code",
   "execution_count": null,
   "metadata": {},
   "outputs": [],
   "source": [
    "g_stars = pd.read_csv('/Users/jess/sf_m_dwarfs/sf_data_files/')"
   ]
  },
  {
   "cell_type": "code",
   "execution_count": null,
   "metadata": {},
   "outputs": [],
   "source": [
    "binaries = g_stars.sample(frac=0.44014209591474255, replace=False)\n",
    "print(\"Number of binaries in the sample: \" + str(len(binaries))) # Print number of binaries in the sample\n",
    "plt.figure(figsize=(15, 4))\n",
    "plt.subplot(131)\n",
    "plt.hist(binaries['logTe'], histtype='step', color='#a6dba0', linewidth=4, label='G Star Binaries')\n",
    "plt.hist(teff_g, histtype='step', linewidth=4, linestyle='-.', label='All G Stars', color='#1b7837')\n",
    "plt.ylabel('N', fontsize=15)\n",
    "plt.legend(loc=2, fontsize=15)\n",
    "plt.yticks(fontsize=15)\n",
    "plt.xticks(fontsize=15)\n",
    "plt.yscale('log')\n",
    "plt.xlabel(r'$T_{eff}$', fontsize=15)\n",
    "plt.subplot(132)\n",
    "plt.title(str(len(binaries)) + ' binary stars', fontsize=15)\n",
    "plt.hist(binaries['logg'], histtype='step', color='#a6dba0', linewidth=4)\n",
    "plt.hist(logg_g, histtype='step', linewidth=4, linestyle='-.', color='#1b7837')\n",
    "plt.yticks(fontsize=15)\n",
    "plt.xticks(fontsize=15)\n",
    "plt.xlabel('logg', fontsize=15)\n",
    "plt.yscale('log')\n",
    "plt.subplot(133)\n",
    "plt.hist(binaries['Kepler'], histtype='step', color='#a6dba0', linewidth=4)\n",
    "plt.hist(kep_mag_g, histtype='step', linewidth=4, linestyle='-.', color='#1b7837')\n",
    "plt.xlabel('Kepler Magnitude', fontsize=15)\n",
    "plt.yticks(fontsize=15)\n",
    "plt.xticks(fontsize=15)\n",
    "plt.yscale('log')\n",
    "plt.savefig('/Users/Jess/sf_m_dwarfs/sf_plots/P_g_stars_comparison_binaries.png')\n",
    "plt.show()\n",
    "np.savetxt('/Users/Jess/sf_m_dwarfs/sf_data_files/G_with_binaries.csv', binaries, delimiter=',', header='Index,Gc,logAge,M_H,m_ini,logL,logTe,logg,m-M0,Av,m2/m1,mbol,Kepler,g,r,i,z,DDO51_finf,J,H,Ks,Mact')"
   ]
  },
  {
   "cell_type": "code",
   "execution_count": null,
   "metadata": {},
   "outputs": [],
   "source": []
  }
 ],
 "metadata": {
  "kernelspec": {
   "display_name": "Python 3",
   "language": "python",
   "name": "python3"
  },
  "language_info": {
   "codemirror_mode": {
    "name": "ipython",
    "version": 3
   },
   "file_extension": ".py",
   "mimetype": "text/x-python",
   "name": "python",
   "nbconvert_exporter": "python",
   "pygments_lexer": "ipython3",
   "version": "3.7.7"
  }
 },
 "nbformat": 4,
 "nbformat_minor": 4
}
