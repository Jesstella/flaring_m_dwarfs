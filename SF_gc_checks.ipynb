{
 "cells": [
  {
   "cell_type": "markdown",
   "metadata": {},
   "source": [
    "# Script to determine the percentage of each Galactic Component is seen in the final sample."
   ]
  },
  {
   "cell_type": "markdown",
   "metadata": {},
   "source": [
    "This code reads in the final sample of G/MK binaries and determines their galactic component (out of options 1, 2 and 3). It then feeds this information back in the form of numbers and percentages. \n",
    "\n",
    "In TRILEGAL these numbers correspond to the following galactic components:\n",
    "* 1 = Thin Disk \n",
    "* 2 = Thick Disk \n",
    "* 3 = Halo Star \n",
    "* 4 = Bulge \n",
    "* 5 = Additional Object \n",
    "\n",
    "In this script we only search for 1, 2 and 3 as we would not expect any from 4 and 5. Having checked there are none anyway."
   ]
  },
  {
   "cell_type": "code",
   "execution_count": 28,
   "metadata": {},
   "outputs": [],
   "source": [
    "# Import modules\n",
    "import numpy as np \n",
    "import pandas as pd \n",
    "import matplotlib.pyplot as plt"
   ]
  },
  {
   "cell_type": "code",
   "execution_count": 29,
   "metadata": {},
   "outputs": [],
   "source": [
    "# Path to sample\n",
    "path = '/Users/Jess/sf_m_dwarfs/sf_data_files/k_run_5/final_sample_gm_binaries.csv'"
   ]
  },
  {
   "cell_type": "code",
   "execution_count": 30,
   "metadata": {},
   "outputs": [
    {
     "name": "stdout",
     "output_type": "stream",
     "text": [
      "In total there are 21212 G/MK binaries.\n",
      "1199 of these are thick disk stars.\n",
      "This is equivalent to 5.65% of the total sample.\n",
      "15 of these are halo stars.\n",
      "This is equivalent to 0.07% of the total sample.\n"
     ]
    }
   ],
   "source": [
    "# Determining how many stars are present in each galactic component\n",
    "gal_checks = pd.read_csv(path)\n",
    "print('In total there are ' + str(len(gal_checks)) + ' G/MK binaries.')\n",
    "gal_checks_2 = gal_checks[gal_checks['Gc'] == 2]\n",
    "print(str(len(gal_checks_2)) + ' of these are thick disk stars.')\n",
    "print('This is equivalent to ' + str(round(len(gal_checks_2)/len(gal_checks) * 100,2)) + '% of the total sample.')\n",
    "gal_checks_3 = gal_checks[gal_checks['Gc'] == 3]\n",
    "print(str(len(gal_checks_3)) + ' of these are halo stars.')\n",
    "print('This is equivalent to ' + str(round(len(gal_checks_3)/len(gal_checks) * 100,2)) + '% of the total sample.')"
   ]
  },
  {
   "cell_type": "code",
   "execution_count": null,
   "metadata": {},
   "outputs": [],
   "source": []
  }
 ],
 "metadata": {
  "kernelspec": {
   "display_name": "Python 3",
   "language": "python",
   "name": "python3"
  },
  "language_info": {
   "codemirror_mode": {
    "name": "ipython",
    "version": 3
   },
   "file_extension": ".py",
   "mimetype": "text/x-python",
   "name": "python",
   "nbconvert_exporter": "python",
   "pygments_lexer": "ipython3",
   "version": "3.7.7"
  }
 },
 "nbformat": 4,
 "nbformat_minor": 4
}
